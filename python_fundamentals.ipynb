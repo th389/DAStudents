{
 "cells": [
  {
   "cell_type": "markdown",
   "metadata": {},
   "source": [
    "# Python fundamentals\n",
    "\n",
    "This notebook was written by Tim Hillel (tim.hillel@epfl.ch) for the Decision-aid methodologies in transportation course at EPFL (http://edu.epfl.ch/coursebook/en/decision-aid-methodologies-in-transportation-CIVIL-557). \n",
    "\n",
    "Please contact before distributing or reusing the material below.\n",
    "\n",
    "## Overview\n",
    "\n",
    "This notebook introduces the Python programming language. It covers basic topics including:\n",
    "\n",
    "* Literal values & variables\n",
    "* Condtionals & flow control\n",
    "* Functions & methods\n",
    "\n",
    "Have a go at working through the notebook. To run a code cell, just click on it (to see a green box around it) and then press the **Run** button at the top! \n",
    "\n",
    "Some cells have blank lines for you to complete. There is always a comment tellling you what to do!\n",
    "\n",
    "You can also add a new cell by pressing the **+** button."
   ]
  },
  {
   "cell_type": "markdown",
   "metadata": {},
   "source": [
    "## Getting help\n",
    "\n",
    "This notebook is designed to give you the skills required to complete the exercises in the course. Hopefully many of you will want to further develop your python skills (it is a very useful language to know, particularly in data science!)\n",
    "\n",
    "There are lots of resources you can use for help. \n",
    "\n",
    "Most importantly, the python documentation!\n",
    "\n",
    "https://www.python.org/doc/\n",
    "\n",
    "But also stack overflow, which you will find after Googling any issue you get stuck on."
   ]
  },
  {
   "cell_type": "markdown",
   "metadata": {},
   "source": [
    "## Data types\n",
    "\n",
    "Python allows for multiple *literal value* types, including:\n",
    "\n",
    "* integers (int) e.g. `4`\n",
    "* floating point numbers (floats) e.g. `4.5`\n",
    "* strings (str) e.g. `'decision aids'`\n",
    "* boolean values (bool) e.g. `True`\n",
    "\n",
    "Let's have a look at using some of them.\n",
    "\n",
    "### Integers\n",
    "\n",
    "For instance, let's try working with integers. \n",
    "\n",
    "There are multiple *operators* we can use with integers, including:\n",
    "* addition - `+`\n",
    "* subtraction - `-`\n",
    "* multiplication - `*`\n",
    "* division - `/`\n",
    "* powers/indices - `**`"
   ]
  },
  {
   "cell_type": "code",
   "execution_count": null,
   "metadata": {},
   "outputs": [],
   "source": [
    "4 + 5"
   ]
  },
  {
   "cell_type": "code",
   "execution_count": null,
   "metadata": {},
   "outputs": [],
   "source": [
    "4**3"
   ]
  },
  {
   "cell_type": "markdown",
   "metadata": {},
   "source": [
    "Let's calculate the number of seconds in a leap-year. \n",
    "The cell below contains a *comment*. Comments in python are started with `#`, and continue to the end of a line. You can type your code in the line after the comment."
   ]
  },
  {
   "cell_type": "code",
   "execution_count": null,
   "metadata": {},
   "outputs": [],
   "source": [
    "# Calculate it here\n"
   ]
  },
  {
   "cell_type": "markdown",
   "metadata": {},
   "source": [
    "Let's try dividing integers"
   ]
  },
  {
   "cell_type": "code",
   "execution_count": null,
   "metadata": {},
   "outputs": [],
   "source": [
    "8/2"
   ]
  },
  {
   "cell_type": "markdown",
   "metadata": {},
   "source": [
    "### Floats\n",
    "\n",
    "Notice that the answer above has a decimal place. This shows it is a `float`. We can check this using `type`."
   ]
  },
  {
   "cell_type": "code",
   "execution_count": null,
   "metadata": {},
   "outputs": [],
   "source": [
    "type(8/2)"
   ]
  },
  {
   "cell_type": "markdown",
   "metadata": {},
   "source": [
    "We can use all the same operators with floats as we can with integers, and can also mix the types."
   ]
  },
  {
   "cell_type": "code",
   "execution_count": null,
   "metadata": {},
   "outputs": [],
   "source": [
    "2.0 * 4"
   ]
  },
  {
   "cell_type": "markdown",
   "metadata": {},
   "source": [
    "### Strings\n",
    "\n",
    "String literals in python are marked with either single or double quotes (but try be consistent!). They act as a *list* of characters."
   ]
  },
  {
   "cell_type": "code",
   "execution_count": null,
   "metadata": {},
   "outputs": [],
   "source": [
    "'Hello world!'\n",
    "# or\n",
    "\"Hello world!\""
   ]
  },
  {
   "cell_type": "markdown",
   "metadata": {},
   "source": [
    "We can also manipulate strings using the addition and multplication operators (*concatenation*)"
   ]
  },
  {
   "cell_type": "code",
   "execution_count": null,
   "metadata": {},
   "outputs": [],
   "source": [
    "'Rose' + \" is a rose\" * 3 + '.'"
   ]
  },
  {
   "cell_type": "markdown",
   "metadata": {},
   "source": [
    "We can also define the empty string `''`"
   ]
  },
  {
   "cell_type": "code",
   "execution_count": null,
   "metadata": {},
   "outputs": [],
   "source": [
    "type('')"
   ]
  },
  {
   "cell_type": "markdown",
   "metadata": {},
   "source": [
    "### Booleans\n",
    "\n",
    "A boolean can take only two values, `True` and `False`. Note that these are *keywords* in Python, and so appear in bold green in jupyter."
   ]
  },
  {
   "cell_type": "code",
   "execution_count": null,
   "metadata": {},
   "outputs": [],
   "source": [
    "type(False)"
   ]
  },
  {
   "cell_type": "markdown",
   "metadata": {},
   "source": [
    "Boolean are outputted by boolean operators, such as is equal to `==` or greather than `>`. More on that later!"
   ]
  },
  {
   "cell_type": "markdown",
   "metadata": {},
   "source": [
    "### Casting\n",
    "\n",
    "Python uses *dynamic casting*. This means it will convert between data types on the fly, which makes it very flexible (but can be confusing coming from stricter langages!). We saw this before when we added a `float` and an `int` (and got a float as an output).\n",
    "\n",
    "Let's try adding a `bool` and an `int`"
   ]
  },
  {
   "cell_type": "code",
   "execution_count": null,
   "metadata": {},
   "outputs": [],
   "source": [
    "True + 4"
   ]
  },
  {
   "cell_type": "markdown",
   "metadata": {},
   "source": [
    "We can also manually cast between types, using a number of built in functions"
   ]
  },
  {
   "cell_type": "code",
   "execution_count": null,
   "metadata": {},
   "outputs": [],
   "source": [
    "int(4.2)"
   ]
  },
  {
   "cell_type": "code",
   "execution_count": null,
   "metadata": {},
   "outputs": [],
   "source": [
    "float(True)"
   ]
  },
  {
   "cell_type": "markdown",
   "metadata": {},
   "source": [
    "This is needed to concatonate strings with integers (where the dynamic casting would not always be obvious). See the error message below."
   ]
  },
  {
   "cell_type": "code",
   "execution_count": null,
   "metadata": {},
   "outputs": [],
   "source": [
    "'My favourite number is ' + 6"
   ]
  },
  {
   "cell_type": "markdown",
   "metadata": {},
   "source": [
    "This is our first example of an error message. As you can see, in general python error messages are very helpful, highlighting the problem line, and giving a detailed description. Try fixing the code."
   ]
  },
  {
   "cell_type": "code",
   "execution_count": null,
   "metadata": {},
   "outputs": [],
   "source": [
    "# Hide\n",
    "'My favourite number is ' + str(6)"
   ]
  },
  {
   "cell_type": "markdown",
   "metadata": {},
   "source": [
    "## Variables\n",
    "\n",
    "Up until now, we have not stored any values in memory. We can do this by defining variables. We do not need any keywords, we just need to give the variable a name, and use the assignment operator `=`"
   ]
  },
  {
   "cell_type": "code",
   "execution_count": null,
   "metadata": {},
   "outputs": [],
   "source": [
    "favourite_number = 6"
   ]
  },
  {
   "cell_type": "markdown",
   "metadata": {},
   "source": [
    "Notice we do not get any output with this cell. This is because we are telling *python* to store the value, and so it doesn't print it. We could access the value by loading it and not storing it again:"
   ]
  },
  {
   "cell_type": "code",
   "execution_count": null,
   "metadata": {},
   "outputs": [],
   "source": [
    "favourite_number"
   ]
  },
  {
   "cell_type": "markdown",
   "metadata": {},
   "source": [
    "Variable names must follow four rules:\n",
    "\n",
    "* A variable name must start with a letter or the underscore character.\n",
    "* A variable name cannot start with a number.\n",
    "* A variable name can only contain alpha-numeric characters and underscores (A-z, 0-9, and _ )\n",
    "* Variable names are case-sensitive (age, Age and AGE are three different variables)\n",
    "\n",
    "Typically however, we use `camel_case` for variable names.\n",
    "\n",
    "Note we can store **any** data type as a variable, and can overwrite them with new values"
   ]
  },
  {
   "cell_type": "code",
   "execution_count": null,
   "metadata": {},
   "outputs": [],
   "source": [
    "favourite_number = 'six'\n",
    "favourite_number"
   ]
  },
  {
   "cell_type": "markdown",
   "metadata": {},
   "source": [
    "We can manipulate variables in the same way we did for literal values. We are going to use this to calulate the fuel cost for a car trip. Come up with appropriate values for the `trip_distance`, `fuel economy`, `fuel_price`, and use it to calculate the `fuel_cost` in Francs (think about units!)"
   ]
  },
  {
   "cell_type": "code",
   "execution_count": null,
   "metadata": {},
   "outputs": [],
   "source": [
    "# Come up with appropriate values for trip_distance, fuel economy, fuel_price\n"
   ]
  },
  {
   "cell_type": "code",
   "execution_count": null,
   "metadata": {},
   "outputs": [],
   "source": [
    "#Calculate fuel_cost\n"
   ]
  },
  {
   "cell_type": "code",
   "execution_count": null,
   "metadata": {},
   "outputs": [],
   "source": [
    "print('The fuel cost for this trip is ' + str(fuel_cost))"
   ]
  },
  {
   "cell_type": "markdown",
   "metadata": {},
   "source": [
    "### None type\n",
    "\n",
    "It is sometimes useful for a variable to represent the absence of a value. In Python, this is represented by the value `None`, which has the special type NoneType."
   ]
  },
  {
   "cell_type": "code",
   "execution_count": null,
   "metadata": {},
   "outputs": [],
   "source": [
    "type(None)"
   ]
  },
  {
   "cell_type": "markdown",
   "metadata": {},
   "source": [
    "## Conditionals\n",
    "\n",
    "Condtionals allow our code to react to values, in order to control the `flow` of our programs.\n",
    "\n",
    "The most simple conditional is the `if` statement, which has the following structure\n",
    "\n",
    "```\n",
    "if <boolean_condtion>:\n",
    "    <statement>\n",
    "```\n",
    "\n",
    "Note the colon and indentation!"
   ]
  },
  {
   "cell_type": "code",
   "execution_count": null,
   "metadata": {},
   "outputs": [],
   "source": [
    "if True:\n",
    "    print('Do this')"
   ]
  },
  {
   "cell_type": "markdown",
   "metadata": {},
   "source": [
    "Note that loops or blocks of code are denoted with the indentation in python. \n",
    "\n",
    "See the following code, all of the indented block is executed after the if statement. Loops are closed by ending the indentation."
   ]
  },
  {
   "cell_type": "code",
   "execution_count": null,
   "metadata": {},
   "outputs": [],
   "source": [
    "if True:\n",
    "    print('Do this')\n",
    "    print('and this!')\n",
    "if False:\n",
    "    print('but don\\'t do that')\n",
    "print('This is always done')"
   ]
  },
  {
   "cell_type": "markdown",
   "metadata": {},
   "source": [
    "Obviously, conditionals are more useful when we use *boolean operators*!\n",
    "\n",
    "Let's check if our journey from before is more expensive than the bus:"
   ]
  },
  {
   "cell_type": "code",
   "execution_count": null,
   "metadata": {},
   "outputs": [],
   "source": [
    "bus_fare = 2.4\n",
    "# check if the bus is cheaper than the car (fuel cost)\n",
    "# and tell the user if so!\n"
   ]
  },
  {
   "cell_type": "markdown",
   "metadata": {},
   "source": [
    "Notice that are code doesn't print anything if the fuel cost is lower or equal to the bus fare. We can adress this using `elif` and `else`"
   ]
  },
  {
   "cell_type": "code",
   "execution_count": null,
   "metadata": {},
   "outputs": [],
   "source": [
    "if fuel_cost > bus_fare:\n",
    "    print('It would be cheaper to take the bus!')\n",
    "elif fuel_cost == bus_fare:\n",
    "    print('The car costs the same as the bus')\n",
    "else:\n",
    "    print('It is cheaper to drive')"
   ]
  },
  {
   "cell_type": "markdown",
   "metadata": {},
   "source": [
    "### Conditionals with NoneType and dynamic casting\n",
    "\n",
    "Remember that Python can perform dynamic casting between data types? This can allow for very flexible flow control using variables! \n",
    "\n",
    "For example, the integer `0`, float `0.0`, empty string `''`, and `None` are all evaluated as `False`. All other values are evaluated as `True`. \n",
    "\n",
    "These are known as *truthy* and *falsey* vaues."
   ]
  },
  {
   "cell_type": "code",
   "execution_count": null,
   "metadata": {},
   "outputs": [],
   "source": [
    "#Try giving name a value and see how the output changes\n",
    "name = ''\n",
    "if name:\n",
    "    print('Hello ' + name)\n",
    "else:\n",
    "    print('Hi there, what\\'s your name?')"
   ]
  },
  {
   "cell_type": "markdown",
   "metadata": {},
   "source": [
    "### Compound conditionals\n",
    "\n",
    "We can combine condtionals together using the keywords `and` and `or` as well as brackets to form complex conditions"
   ]
  },
  {
   "cell_type": "code",
   "execution_count": null,
   "metadata": {},
   "outputs": [],
   "source": [
    "age = 30\n",
    "if name and (age<25 or age>=65):\n",
    "    print('Hi, ' + name + ', you are eligible for reduced public transport')\n",
    "elif age<25 or age>=65:\n",
    "    print('You are eligible for reduced public transport')\n",
    "else:\n",
    "    print('Sorry, you are not eligible for reduced public transport')"
   ]
  },
  {
   "cell_type": "markdown",
   "metadata": {},
   "source": [
    "## Functions and methods\n",
    "\n",
    "In the code above, we have already used several *functions*, including `print()`, `type()`, `int()`, and `float()`. \n",
    "\n",
    "Functions are ways of calling, or interacting, with existing code. The round brackets `()` are used to call a function. Any arguments passed to the function are put inside the round brackets. \n",
    "\n",
    "They take the general form `function(arguments)`\n",
    "\n",
    "If one or more values are returned by a function, they can be stored as variables."
   ]
  },
  {
   "cell_type": "code",
   "execution_count": null,
   "metadata": {},
   "outputs": [],
   "source": [
    "f = 6.5\n",
    "i = int(f)\n",
    "i"
   ]
  },
  {
   "cell_type": "markdown",
   "metadata": {},
   "source": [
    "We can check the documentation for a function using the help functionality. Let's look at the `round` function"
   ]
  },
  {
   "cell_type": "code",
   "execution_count": null,
   "metadata": {},
   "outputs": [],
   "source": [
    "round?"
   ]
  },
  {
   "cell_type": "markdown",
   "metadata": {},
   "source": [
    "As you can see, `int` can take multiple arguments, including an optional argument `ndigits`, which defaults to `None`.\n",
    "\n",
    "Let's try using the arguments. "
   ]
  },
  {
   "cell_type": "code",
   "execution_count": null,
   "metadata": {},
   "outputs": [],
   "source": [
    "num = 5.23447\n",
    "# try rounding to different numbers of digits\n"
   ]
  },
  {
   "cell_type": "markdown",
   "metadata": {},
   "source": [
    "Try rounding 0.5, 1.5, 2.5, 3.5 and 4.5 etc. to the nearest integer. What happens? Why might we want this behaviour?"
   ]
  },
  {
   "cell_type": "code",
   "execution_count": null,
   "metadata": {},
   "outputs": [],
   "source": [
    "#Try rounding the numbers 1.5, 2.5, 3.5, 4.5\n"
   ]
  },
  {
   "cell_type": "markdown",
   "metadata": {},
   "source": [
    "Unlike functions, methods are called directly on *objects* (an *instance* of a *class*). \n",
    "\n",
    "They are connected using a `.`, and like functions, can take arguments inside the round brackets used to call the method.\n",
    "\n",
    "Their general form is\n",
    "`object.method(arguments)`\n",
    "\n",
    "For example, strings have the methods `upper` and `lower`. Let's see what they do!"
   ]
  },
  {
   "cell_type": "code",
   "execution_count": null,
   "metadata": {},
   "outputs": [],
   "source": [
    "hi = 'Hello!'\n",
    "print(hi.upper())\n",
    "#try using lower with hi\n"
   ]
  }
 ],
 "metadata": {
  "kernelspec": {
   "display_name": "Python 3",
   "language": "python",
   "name": "python3"
  },
  "language_info": {
   "codemirror_mode": {
    "name": "ipython",
    "version": 3
   },
   "file_extension": ".py",
   "mimetype": "text/x-python",
   "name": "python",
   "nbconvert_exporter": "python",
   "pygments_lexer": "ipython3",
   "version": "3.7.1"
  }
 },
 "nbformat": 4,
 "nbformat_minor": 2
}
